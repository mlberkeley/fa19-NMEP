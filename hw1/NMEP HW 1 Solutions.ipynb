{
 "cells": [
  {
   "cell_type": "markdown",
   "metadata": {},
   "source": [
    "In this hw, we will use linear regression\n",
    "\n",
    "To use IPYNB, do Shift+Enter to run a cell"
   ]
  },
  {
   "cell_type": "markdown",
   "metadata": {},
   "source": [
    "Import math, numpy, sklearn, and matplotlib.pyplot"
   ]
  },
  {
   "cell_type": "code",
   "execution_count": 1,
   "metadata": {},
   "outputs": [],
   "source": [
    "#import #your code\n",
    "import math\n",
    "import numpy as np\n",
    "import matplotlib.pyplot as plt\n",
    "from sklearn.linear_model import LinearRegression\n",
    "from sklearn.metrics import mean_squared_error"
   ]
  },
  {
   "cell_type": "markdown",
   "metadata": {},
   "source": [
    "Lets generate a bunch of random data first"
   ]
  },
  {
   "cell_type": "code",
   "execution_count": 2,
   "metadata": {},
   "outputs": [
    {
     "data": {
      "image/png": "[encoded data removed]",
      "text/plain": [
       "<Figure size 432x288 with 1 Axes>"
      ]
     },
     "metadata": {
      "needs_background": "light"
     },
     "output_type": "display_data"
    },
    {
     "data": {
      "text/plain": [
       "[(2.046722789862506, 2.0665168638746643),\n",
       " (0.07205373517714822, 0.10273183965322374),\n",
       " (1.142373755692434, 1.133827429388343),\n",
       " (0.8967326990273027, 0.9170641682048006),\n",
       " (0.4188814115616442, 0.13099175493431398),\n",
       " (0.12320048552190428, 0.30633211291808615),\n",
       " (0.5791431769009027, 0.640279626544764),\n",
       " (0.3011954731535012, 0.19917476276476537),\n",
       " (0.6329882477469572, 0.6688559491397985),\n",
       " (0.4525382656621523, 0.7436160412797823),\n",
       " (0.08318083433883554, 0.16219838962868655),\n",
       " (0.25785518527149254, 0.33719274079881834),\n",
       " (0.5068836874136243, 0.3634586481400336),\n",
       " (1.2773690901173194, 1.5471295222397021),\n",
       " (1.2502679159619658, 1.4226530059286588),\n",
       " (1.5739406001737768, 1.6279069319255093),\n",
       " (0.3477542995286666, 0.05007077316782027),\n",
       " (1.0326041790901543, 1.0628541369454432),\n",
       " (1.0166036796916758, 0.9532965464452902),\n",
       " (0.14370553307394415, 0.2606281628279)]"
      ]
     },
     "execution_count": 2,
     "metadata": {},
     "output_type": "execute_result"
    }
   ],
   "source": [
    "num_data = 20\n",
    "\n",
    "def gen_data(n):\n",
    "    \n",
    "    x = []\n",
    "    y = []\n",
    "    \n",
    "    for i in range(n):\n",
    "        rand = abs(np.random.randn())\n",
    "        x += [rand]\n",
    "        y += [.15 * np.random.randn() + rand]\n",
    "\n",
    "    plt.scatter(x, y)\n",
    "    plt.show()\n",
    "    \n",
    "    return (x, y)\n",
    "\n",
    "data = gen_data(num_data)\n",
    "data = [(data[0][i], data[1][i]) for i in range(num_data)]\n",
    "data"
   ]
  },
  {
   "cell_type": "markdown",
   "metadata": {},
   "source": [
    "Now, `data` is a list of tuples of data. Perform linear regression to find the line of best fit, using only numpy. Minimize squared loss. Recall the formula for minimizing this is `insert formula`. Use matplotlib to plot your line of best fit."
   ]
  },
  {
   "cell_type": "code",
   "execution_count": 8,
   "metadata": {},
   "outputs": [
    {
     "data": {
      "text/plain": [
       "array(<generator object <genexpr> at 0x129fa36d0>, dtype=object)"
      ]
     },
     "execution_count": 8,
     "metadata": {},
     "output_type": "execute_result"
    }
   ],
   "source": [
    "data1 = data.copy() #data1 is a copy of data, dont modify data since we'll use it later\n",
    "#Your code here\n",
    "A = np.array([1, data1[i][0]] for i in range(num_data))\n",
    "print(A)"
   ]
  },
  {
   "cell_type": "markdown",
   "metadata": {},
   "source": [
    "Now, do quadratic regression. You shouldn't have to change too much from Linear Regression. Include the plot."
   ]
  },
  {
   "cell_type": "code",
   "execution_count": 38,
   "metadata": {},
   "outputs": [],
   "source": [
    "data2 = data.copy()\n",
    "#Your code here"
   ]
  },
  {
   "cell_type": "markdown",
   "metadata": {},
   "source": [
    "Now, use scikit learn to do linear regression, and print out the plot."
   ]
  },
  {
   "cell_type": "code",
   "execution_count": null,
   "metadata": {},
   "outputs": [],
   "source": []
  }
 ],
 "metadata": {
  "kernelspec": {
   "display_name": "Python 3",
   "language": "python",
   "name": "python3"
  },
  "language_info": {
   "codemirror_mode": {
    "name": "ipython",
    "version": 3
   },
   "file_extension": ".py",
   "mimetype": "text/x-python",
   "name": "python",
   "nbconvert_exporter": "python",
   "pygments_lexer": "ipython3",
   "version": "3.6.2"
  }
 },
 "nbformat": 4,
 "nbformat_minor": 2
}
