{
 "cells": [
  {
   "cell_type": "markdown",
   "metadata": {},
   "source": [
    "In this hw, we will use linear regression\n",
    "\n",
    "To use IPYNB, do Shift+Enter to run a cell"
   ]
  },
  {
   "cell_type": "markdown",
   "metadata": {},
   "source": [
    "Import math, numpy, sklearn, and matplotlib.pyplot"
   ]
  },
  {
   "cell_type": "code",
   "execution_count": 17,
   "metadata": {},
   "outputs": [],
   "source": [
    "#your code"
   ]
  },
  {
   "cell_type": "markdown",
   "metadata": {},
   "source": [
    "Lets generate a bunch of random data first"
   ]
  },
  {
   "cell_type": "code",
   "execution_count": 33,
   "metadata": {},
   "outputs": [
    {
     "data": {
      "image/png": "[encoded data removed]",
      "text/plain": [
       "<Figure size 432x288 with 1 Axes>"
      ]
     },
     "metadata": {
      "needs_background": "light"
     },
     "output_type": "display_data"
    },
    {
     "data": {
      "text/plain": [
       "[(0.7814953228378348, 0.8624356957437256),\n",
       " (0.7989472017709706, 0.5825608816273932),\n",
       " (1.376421812263334, 1.31501809348606),\n",
       " (0.41269304439176174, 0.29516854918772173),\n",
       " (0.3420658158962942, 0.5975960359562624),\n",
       " (1.053239578252544, 0.9357937457214652),\n",
       " (1.1601748897351838, 1.189633269681473),\n",
       " (0.28155031685532667, -0.07163342390005412),\n",
       " (0.5439711544627073, 0.5908711466776961),\n",
       " (0.30928685846730863, 0.2675760340543412),\n",
       " (2.0420497435663036, 2.077497373855971),\n",
       " (0.5460766503817167, 0.15486938298409714),\n",
       " (1.2532897715230575, 1.4929897042786942),\n",
       " (0.4363377977235186, 0.7571814666244784),\n",
       " (0.8162440577993313, 0.8610966010890841),\n",
       " (0.07546077971320128, 0.0941389635564138),\n",
       " (0.3476165793068186, 0.40079805683923897),\n",
       " (0.3552438964442307, 0.4058624193717817),\n",
       " (1.2947916232322256, 1.0526134512196963),\n",
       " (1.3155653724114795, 1.3054178796493145)]"
      ]
     },
     "execution_count": 33,
     "metadata": {},
     "output_type": "execute_result"
    }
   ],
   "source": [
    "num_data = 20\n",
    "\n",
    "def gen_data(n):\n",
    "    \n",
    "    x = []\n",
    "    y = []\n",
    "    \n",
    "    for i in range(n):\n",
    "        rand = abs(np.random.randn())\n",
    "        x += [rand]\n",
    "        y += [.15 * np.random.randn() + rand]\n",
    "\n",
    "    plt.scatter(x, y)\n",
    "    plt.show()\n",
    "    \n",
    "    return (x, y)\n",
    "\n",
    "data = gen_data(num_data)\n",
    "data = [(data[0][i], data[1][i]) for i in range(num_data)]\n",
    "data"
   ]
  },
  {
   "cell_type": "markdown",
   "metadata": {},
   "source": [
    "Now, `data` is a list of tuples of data. Perform linear regression to find the line of best fit, using only numpy. Minimize squared loss. Recall the formula for minimizing this is `insert formula`. Use matplotlib to plot your line of best fit."
   ]
  },
  {
   "cell_type": "code",
   "execution_count": 37,
   "metadata": {},
   "outputs": [],
   "source": [
    "data1 = data.copy() #data1 is a copy of data, dont modify data since we'll use it later\n",
    "#Your code here"
   ]
  },
  {
   "cell_type": "markdown",
   "metadata": {},
   "source": [
    "Now, do quadratic regression. You shouldn't have to change too much from Linear Regression. Include the plot."
   ]
  },
  {
   "cell_type": "code",
   "execution_count": 38,
   "metadata": {},
   "outputs": [],
   "source": [
    "data2 = data.copy()\n",
    "#Your code here"
   ]
  },
  {
   "cell_type": "markdown",
   "metadata": {},
   "source": [
    "Now, use scikit learn to do linear regression, and print out the plot."
   ]
  },
  {
   "cell_type": "code",
   "execution_count": null,
   "metadata": {},
   "outputs": [],
   "source": []
  }
 ],
 "metadata": {
  "kernelspec": {
   "display_name": "Python 3",
   "language": "python",
   "name": "python3"
  },
  "language_info": {
   "codemirror_mode": {
    "name": "ipython",
    "version": 3
   },
   "file_extension": ".py",
   "mimetype": "text/x-python",
   "name": "python",
   "nbconvert_exporter": "python",
   "pygments_lexer": "ipython3",
   "version": "3.6.2"
  }
 },
 "nbformat": 4,
 "nbformat_minor": 2
}
